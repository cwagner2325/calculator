{
 "cells": [
  {
   "cell_type": "code",
   "execution_count": 1,
   "id": "2658e9ea-6bb3-4fdd-a99c-a8845c683888",
   "metadata": {},
   "outputs": [],
   "source": [
    "# Cayden Wagner"
   ]
  },
  {
   "cell_type": "code",
   "execution_count": 35,
   "id": "c1072882-fdd6-45d6-a650-cad5fcd7145c",
   "metadata": {},
   "outputs": [
    {
     "data": {
      "application/vnd.jupyter.widget-view+json": {
       "model_id": "1e001fbe342246099396432d574c7001",
       "version_major": 2,
       "version_minor": 0
      },
      "text/plain": [
       "VBox(children=(HBox(children=(Button(description='0', style=ButtonStyle()), Button(description='1', style=Butt…"
      ]
     },
     "metadata": {},
     "output_type": "display_data"
    }
   ],
   "source": [
    "import ipywidgets\n",
    "\n",
    "widgets = []\n",
    "for x in range(4):\n",
    "    Button1 = ipywidgets.Button(description = str(3*x))\n",
    "    \n",
    "    if(3*x + 1 < 10):\n",
    "        Button2 = ipywidgets.Button(description = str(3*x+1))\n",
    "        Button3 = ipywidgets.Button(description = str(3*x+2))\n",
    "        widgets.append(ipywidgets.HBox( [Button1, Button2, Button3] ))\n",
    "    else:\n",
    "        widgets.append(ipywidgets.HBox( [Button1] ))\n",
    "\n",
    "\n",
    "PlusButton = ipywidgets.Button(description = '+ plus') \n",
    "MinusButton = ipywidgets.Button(description = '- minus') \n",
    "DivideButton = ipywidgets.Button(description = '/ divide') \n",
    "TimesButton = ipywidgets.Button(description = 'X times') \n",
    "EqualsButton = ipywidgets.Button(description = '= times') \n",
    "ClearButton = ipywidgets.Button(description = 'C') \n",
    "ClearButton.style.button_color = 'red'\n",
    "\n",
    "widgets.append(ipywidgets.HBox( [PlusButton, MinusButton, DivideButton, TimesButton] ))\n",
    "widgets.append(ipywidgets.HBox( [EqualsButton, ClearButton] ))\n",
    "\n",
    "ipywidgets.VBox( widgets )"
   ]
  },
  {
   "cell_type": "code",
   "execution_count": null,
   "id": "2a7fd347-52f1-43d4-a9c3-06dbfb3c107a",
   "metadata": {},
   "outputs": [],
   "source": []
  }
 ],
 "metadata": {
  "kernelspec": {
   "display_name": "Python 3 (ipykernel)",
   "language": "python",
   "name": "python3"
  },
  "language_info": {
   "codemirror_mode": {
    "name": "ipython",
    "version": 3
   },
   "file_extension": ".py",
   "mimetype": "text/x-python",
   "name": "python",
   "nbconvert_exporter": "python",
   "pygments_lexer": "ipython3",
   "version": "3.10.1"
  }
 },
 "nbformat": 4,
 "nbformat_minor": 5
}
