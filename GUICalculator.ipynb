{
 "cells": [
  {
   "cell_type": "code",
   "execution_count": null,
   "id": "2658e9ea-6bb3-4fdd-a99c-a8845c683888",
   "metadata": {},
   "outputs": [],
   "source": [
    "# YOUR NAME HERE"
   ]
  }
 ],
 "metadata": {
  "kernelspec": {
   "display_name": "Python 3 (ipykernel)",
   "language": "python",
   "name": "python3"
  },
  "language_info": {
   "codemirror_mode": {
    "name": "ipython",
    "version": 3
   },
   "file_extension": ".py",
   "mimetype": "text/x-python",
   "name": "python",
   "nbconvert_exporter": "python",
   "pygments_lexer": "ipython3",
   "version": "3.10.1"
  }
 },
 "nbformat": 4,
 "nbformat_minor": 5
}
